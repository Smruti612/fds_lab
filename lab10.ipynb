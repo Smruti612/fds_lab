{
 "cells": [
  {
   "cell_type": "markdown",
   "metadata": {},
   "source": [
    "- **Name:** Smruti Sonekar\n",
    "- **Branch:** CSE DS\n",
    "- **UID:** 2021700064\n",
    "- **EXPNO:** 10"
   ]
  },
  {
   "cell_type": "code",
   "execution_count": 38,
   "metadata": {},
   "outputs": [],
   "source": [
    "import numpy as np\n",
    "import pandas as pd"
   ]
  },
  {
   "cell_type": "markdown",
   "metadata": {},
   "source": [
    " Hypothesis Testing:\n",
    "A Statistical Hypothesis Test is a method of statistical inference which is used in making decisions using sample data. Here we attempt to answer a few questions based on the nature of distribution and relationships between various attributes in our dataset through Hypothesis Tests. We follow the following methodology:\n",
    "\n",
    "Formulate the null hypothesis  H0\n",
    "  and the alternative hypothesis  HA\n",
    " \n",
    "Select an appropriate statistical test and the corresponding test statistic\n",
    "Choose level of significance α (generally taken as 0.05)\n",
    "Collect data and calculate the value of test statistic\n",
    "Determine the probability associated with the test statistic under the null hypothesis using sampling distribution of the test statistic\n",
    "Compare the probability associated with the test statistic with level of significance specified"
   ]
  },
  {
   "cell_type": "code",
   "execution_count": 9,
   "metadata": {},
   "outputs": [
    {
     "data": {
      "text/html": [
       "<div>\n",
       "<style scoped>\n",
       "    .dataframe tbody tr th:only-of-type {\n",
       "        vertical-align: middle;\n",
       "    }\n",
       "\n",
       "    .dataframe tbody tr th {\n",
       "        vertical-align: top;\n",
       "    }\n",
       "\n",
       "    .dataframe thead th {\n",
       "        text-align: right;\n",
       "    }\n",
       "</style>\n",
       "<table border=\"1\" class=\"dataframe\">\n",
       "  <thead>\n",
       "    <tr style=\"text-align: right;\">\n",
       "      <th></th>\n",
       "      <th>age</th>\n",
       "      <th>sex</th>\n",
       "      <th>bmi</th>\n",
       "      <th>children</th>\n",
       "      <th>smoker</th>\n",
       "      <th>region</th>\n",
       "      <th>charges</th>\n",
       "    </tr>\n",
       "  </thead>\n",
       "  <tbody>\n",
       "    <tr>\n",
       "      <th>0</th>\n",
       "      <td>19</td>\n",
       "      <td>female</td>\n",
       "      <td>27.900</td>\n",
       "      <td>0</td>\n",
       "      <td>yes</td>\n",
       "      <td>southwest</td>\n",
       "      <td>16884.92400</td>\n",
       "    </tr>\n",
       "    <tr>\n",
       "      <th>1</th>\n",
       "      <td>18</td>\n",
       "      <td>male</td>\n",
       "      <td>33.770</td>\n",
       "      <td>1</td>\n",
       "      <td>no</td>\n",
       "      <td>southeast</td>\n",
       "      <td>1725.55230</td>\n",
       "    </tr>\n",
       "    <tr>\n",
       "      <th>2</th>\n",
       "      <td>28</td>\n",
       "      <td>male</td>\n",
       "      <td>33.000</td>\n",
       "      <td>3</td>\n",
       "      <td>no</td>\n",
       "      <td>southeast</td>\n",
       "      <td>4449.46200</td>\n",
       "    </tr>\n",
       "    <tr>\n",
       "      <th>3</th>\n",
       "      <td>33</td>\n",
       "      <td>male</td>\n",
       "      <td>22.705</td>\n",
       "      <td>0</td>\n",
       "      <td>no</td>\n",
       "      <td>northwest</td>\n",
       "      <td>21984.47061</td>\n",
       "    </tr>\n",
       "    <tr>\n",
       "      <th>4</th>\n",
       "      <td>32</td>\n",
       "      <td>male</td>\n",
       "      <td>28.880</td>\n",
       "      <td>0</td>\n",
       "      <td>no</td>\n",
       "      <td>northwest</td>\n",
       "      <td>3866.85520</td>\n",
       "    </tr>\n",
       "  </tbody>\n",
       "</table>\n",
       "</div>"
      ],
      "text/plain": [
       "   age     sex     bmi  children smoker     region      charges\n",
       "0   19  female  27.900         0    yes  southwest  16884.92400\n",
       "1   18    male  33.770         1     no  southeast   1725.55230\n",
       "2   28    male  33.000         3     no  southeast   4449.46200\n",
       "3   33    male  22.705         0     no  northwest  21984.47061\n",
       "4   32    male  28.880         0     no  northwest   3866.85520"
      ]
     },
     "execution_count": 9,
     "metadata": {},
     "output_type": "execute_result"
    }
   ],
   "source": [
    "f1=pd.DataFrame(pd.read_csv(\"./files/insurance.csv\"))\n",
    "f1.head()"
   ]
  },
  {
   "cell_type": "code",
   "execution_count": 10,
   "metadata": {},
   "outputs": [
    {
     "data": {
      "text/html": [
       "<div>\n",
       "<style scoped>\n",
       "    .dataframe tbody tr th:only-of-type {\n",
       "        vertical-align: middle;\n",
       "    }\n",
       "\n",
       "    .dataframe tbody tr th {\n",
       "        vertical-align: top;\n",
       "    }\n",
       "\n",
       "    .dataframe thead th {\n",
       "        text-align: right;\n",
       "    }\n",
       "</style>\n",
       "<table border=\"1\" class=\"dataframe\">\n",
       "  <thead>\n",
       "    <tr style=\"text-align: right;\">\n",
       "      <th></th>\n",
       "      <th>count</th>\n",
       "      <th>mean</th>\n",
       "      <th>std</th>\n",
       "      <th>min</th>\n",
       "      <th>25%</th>\n",
       "      <th>50%</th>\n",
       "      <th>75%</th>\n",
       "      <th>max</th>\n",
       "    </tr>\n",
       "  </thead>\n",
       "  <tbody>\n",
       "    <tr>\n",
       "      <th>age</th>\n",
       "      <td>1338.0</td>\n",
       "      <td>39.207025</td>\n",
       "      <td>14.049960</td>\n",
       "      <td>18.0000</td>\n",
       "      <td>27.00000</td>\n",
       "      <td>39.000</td>\n",
       "      <td>51.000000</td>\n",
       "      <td>64.00000</td>\n",
       "    </tr>\n",
       "    <tr>\n",
       "      <th>bmi</th>\n",
       "      <td>1338.0</td>\n",
       "      <td>30.663397</td>\n",
       "      <td>6.098187</td>\n",
       "      <td>15.9600</td>\n",
       "      <td>26.29625</td>\n",
       "      <td>30.400</td>\n",
       "      <td>34.693750</td>\n",
       "      <td>53.13000</td>\n",
       "    </tr>\n",
       "    <tr>\n",
       "      <th>children</th>\n",
       "      <td>1338.0</td>\n",
       "      <td>1.094918</td>\n",
       "      <td>1.205493</td>\n",
       "      <td>0.0000</td>\n",
       "      <td>0.00000</td>\n",
       "      <td>1.000</td>\n",
       "      <td>2.000000</td>\n",
       "      <td>5.00000</td>\n",
       "    </tr>\n",
       "    <tr>\n",
       "      <th>charges</th>\n",
       "      <td>1338.0</td>\n",
       "      <td>13270.422265</td>\n",
       "      <td>12110.011237</td>\n",
       "      <td>1121.8739</td>\n",
       "      <td>4740.28715</td>\n",
       "      <td>9382.033</td>\n",
       "      <td>16639.912515</td>\n",
       "      <td>63770.42801</td>\n",
       "    </tr>\n",
       "  </tbody>\n",
       "</table>\n",
       "</div>"
      ],
      "text/plain": [
       "           count          mean           std        min         25%       50%  \\\n",
       "age       1338.0     39.207025     14.049960    18.0000    27.00000    39.000   \n",
       "bmi       1338.0     30.663397      6.098187    15.9600    26.29625    30.400   \n",
       "children  1338.0      1.094918      1.205493     0.0000     0.00000     1.000   \n",
       "charges   1338.0  13270.422265  12110.011237  1121.8739  4740.28715  9382.033   \n",
       "\n",
       "                   75%          max  \n",
       "age          51.000000     64.00000  \n",
       "bmi          34.693750     53.13000  \n",
       "children      2.000000      5.00000  \n",
       "charges   16639.912515  63770.42801  "
      ]
     },
     "execution_count": 10,
     "metadata": {},
     "output_type": "execute_result"
    }
   ],
   "source": [
    "f1.describe().transpose()"
   ]
  },
  {
   "cell_type": "markdown",
   "metadata": {},
   "source": [
    "**Does BMI of males differ significantly from that of females?**\n",
    "-  **Step 1**: State the null and alternative hypothesis\n",
    "- Null Hypothesis: Mean BMI of MALE and feMALE are same\n",
    "- Alternative Hypothesis: Mean BMI of MALE and feMALE are different\n",
    "\n",
    "- **Step 2**:Select an appropriate statistical test and the corresponding test statistic\n",
    "- We select a 2-sample t-test as our statistical test and the corresponding t statistic as our test statistic.\n",
    "\n",
    "- **Step 3**: Choose level of significance\n",
    "- alpha = 0.05\n",
    "\n",
    "- **Step 4** : Collection of data and calculate value of test case"
   ]
  },
  {
   "cell_type": "code",
   "execution_count": 13,
   "metadata": {},
   "outputs": [],
   "source": [
    "male=f1[f1[\"sex\"]==\"male\"]\n",
    "female=f1[f1[\"sex\"]==\"female\"]\n",
    "bmi_male= male[\"bmi\"]\n",
    "bmi_female=female[\"bmi\"]"
   ]
  },
  {
   "cell_type": "code",
   "execution_count": 15,
   "metadata": {},
   "outputs": [
    {
     "name": "stdout",
     "output_type": "stream",
     "text": [
      "Total no of  males :676\n",
      "Total no of females :662\n",
      "Variance of bmi in male :  37.64916073639534\n",
      "Variance of bmi in female :  36.499177033798524\n"
     ]
    }
   ],
   "source": [
    "print(f'Total no of  males :{male.shape[0]}')\n",
    "print(f'Total no of females :{female.shape[0]}')\n",
    "var1=np.var(bmi_male)\n",
    "var2=np.var(bmi_female)\n",
    "print(\"Variance of bmi in male : \",var1)\n",
    "print(\"Variance of bmi in female : \",var2)"
   ]
  },
  {
   "cell_type": "code",
   "execution_count": 16,
   "metadata": {},
   "outputs": [],
   "source": [
    "from scipy.stats import ttest_ind"
   ]
  },
  {
   "cell_type": "code",
   "execution_count": 17,
   "metadata": {},
   "outputs": [
    {
     "name": "stdout",
     "output_type": "stream",
     "text": [
      "t_statistic: 1.697027933124022\n",
      "p_value: 0.08992430667834876\n"
     ]
    }
   ],
   "source": [
    "t_statistic, p_value = ttest_ind(bmi_male, bmi_female, equal_var=False)\n",
    "print(f't_statistic: {t_statistic}\\np_value: {p_value}')"
   ]
  },
  {
   "cell_type": "code",
   "execution_count": 18,
   "metadata": {},
   "outputs": [
    {
     "data": {
      "text/plain": [
       "True"
      ]
     },
     "execution_count": 18,
     "metadata": {},
     "output_type": "execute_result"
    }
   ],
   "source": [
    "#comparing value with alpha \n",
    "alpha=0.05\n",
    "p_value > alpha"
   ]
  },
  {
   "cell_type": "markdown",
   "metadata": {},
   "source": [
    "- Conclusion : **Since after comparing , result is true, which means We fail to reject the Null Hypothesis and state that at 5% level of significance both male and female have equal BMI in insured Data.  BMI of males do not differ significantly from that of females in our data.**"
   ]
  },
  {
   "cell_type": "markdown",
   "metadata": {},
   "source": [
    "- **Q2**:  Do charges of people who smoke differ significantly from the people who don't?\n",
    "- Null Hypothesis: Mean Charges of smoker and non smokers are same.\n",
    "- Alternative Hypothesis: Mean Charges of smoker and non smokers are different."
   ]
  },
  {
   "cell_type": "code",
   "execution_count": 19,
   "metadata": {},
   "outputs": [],
   "source": [
    "smoker=f1[f1[\"smoker\"]==\"yes\"]\n",
    "non_smoker=f1[f1[\"smoker\"]==\"no\"]\n",
    "charges=smoker[\"charges\"]\n",
    "non_charges=non_smoker[\"charges\"]"
   ]
  },
  {
   "cell_type": "code",
   "execution_count": 20,
   "metadata": {},
   "outputs": [
    {
     "name": "stdout",
     "output_type": "stream",
     "text": [
      "Total no of  smokers :274\n",
      "Total no of non-smokers :1064\n",
      "Variance of charges for smokers :  132721153.13625307\n",
      "Variance of charges for non smokers :  35891656.00316426\n"
     ]
    }
   ],
   "source": [
    "print(f'Total no of  smokers :{smoker.shape[0]}')\n",
    "print(f'Total no of non-smokers :{non_smoker.shape[0]}')\n",
    "var1=np.var(charges)\n",
    "var2=np.var(non_charges)\n",
    "print(\"Variance of charges for smokers : \",var1)\n",
    "print(\"Variance of charges for non smokers : \",var2)"
   ]
  },
  {
   "cell_type": "code",
   "execution_count": 21,
   "metadata": {},
   "outputs": [
    {
     "name": "stdout",
     "output_type": "stream",
     "text": [
      "t_statistic: 32.751887766341824\n",
      "p_value: 5.88946444671698e-103\n"
     ]
    }
   ],
   "source": [
    "t_statistic, p_value = ttest_ind(charges, non_charges, equal_var=False)\n",
    "print(f't_statistic: {t_statistic}\\np_value: {p_value}')"
   ]
  },
  {
   "cell_type": "code",
   "execution_count": 22,
   "metadata": {},
   "outputs": [
    {
     "data": {
      "text/plain": [
       "False"
      ]
     },
     "execution_count": 22,
     "metadata": {},
     "output_type": "execute_result"
    }
   ],
   "source": [
    "#check the p_value by comparing with alpha\n",
    "p_value > alpha"
   ]
  },
  {
   "cell_type": "markdown",
   "metadata": {},
   "source": [
    "- **Since, we have got false at result , WE Reject the Null Hypothesis and state the at 5% level of significance charges for smokers and non-smokers are not equal. Charges for smokers and non-smokers differ significanlty**"
   ]
  },
  {
   "cell_type": "markdown",
   "metadata": {},
   "source": [
    "- Q3 :: **Is the proportion of smokers significantly different in different genders?**\n",
    "- **Null Hypothesis**: Proportion of male and female smokers is equal/same.\n",
    "- **Alternative Hypothesis**:Proportion of male and female smokers is not equal/different."
   ]
  },
  {
   "cell_type": "code",
   "execution_count": 32,
   "metadata": {},
   "outputs": [],
   "source": [
    "female_smokers = f1[f1['sex'] == \"female\"].smoker.value_counts().iloc[1] # number of female smokers\n",
    "male_smokers = f1[f1['sex'] == \"male\"].smoker.value_counts().iloc[1] # number of male smokers"
   ]
  },
  {
   "cell_type": "code",
   "execution_count": 34,
   "metadata": {},
   "outputs": [
    {
     "name": "stdout",
     "output_type": "stream",
     "text": [
      "[115, 159] [662, 676]\n"
     ]
    }
   ],
   "source": [
    "print([female_smokers, male_smokers] , [female.shape[0], male.shape[0]])"
   ]
  },
  {
   "cell_type": "code",
   "execution_count": 35,
   "metadata": {},
   "outputs": [
    {
     "name": "stdout",
     "output_type": "stream",
     "text": [
      "Proportion of female smokers ::  17.37 %\n",
      "Proportion of male smokers ::  23.52 %\n"
     ]
    }
   ],
   "source": [
    "p1=round(115/662,4)*100\n",
    "p2=round(159/676,4)*100\n",
    "print(\"Proportion of female smokers :: \",p1,\"%\")\n",
    "print(\"Proportion of male smokers :: \",p2,\"%\")"
   ]
  },
  {
   "cell_type": "code",
   "execution_count": 36,
   "metadata": {},
   "outputs": [
    {
     "name": "stdout",
     "output_type": "stream",
     "text": [
      "Statistic: -2.7867402154855503\n",
      "p_value: 0.005324114164320532\n"
     ]
    }
   ],
   "source": [
    "from statsmodels.stats.proportion import proportions_ztest\n",
    "\n",
    "stat, pval = proportions_ztest([female_smokers, male_smokers] , [female.shape[0], male.shape[0]])\n",
    "print(f'Statistic: {stat}\\np_value: {pval}')"
   ]
  },
  {
   "cell_type": "markdown",
   "metadata": {},
   "source": [
    "Determine the probability associated with the test statistic under the null hypothesis using sampling distribution of the test statistic"
   ]
  },
  {
   "cell_type": "code",
   "execution_count": 37,
   "metadata": {},
   "outputs": [
    {
     "name": "stdout",
     "output_type": "stream",
     "text": [
      "With a p-value of 0.005324114164320532 the difference is significant. We reject the Null Hypothesis.\n"
     ]
    }
   ],
   "source": [
    "if pval < alpha:\n",
    "    print(f'With a p-value of {pval} the difference is significant. We reject the Null Hypothesis.')\n",
    "else:\n",
    "    print(f'With a p-value of {pval} the difference is significant. We fail to reject the Null Hypothesis.')"
   ]
  }
 ],
 "metadata": {
  "kernelspec": {
   "display_name": "Python 3",
   "language": "python",
   "name": "python3"
  },
  "language_info": {
   "codemirror_mode": {
    "name": "ipython",
    "version": 3
   },
   "file_extension": ".py",
   "mimetype": "text/x-python",
   "name": "python",
   "nbconvert_exporter": "python",
   "pygments_lexer": "ipython3",
   "version": "3.10.9"
  }
 },
 "nbformat": 4,
 "nbformat_minor": 2
}
