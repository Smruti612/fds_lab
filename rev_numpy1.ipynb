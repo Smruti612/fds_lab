{
 "cells": [
  {
   "cell_type": "code",
   "execution_count": 2,
   "metadata": {},
   "outputs": [],
   "source": [
    "import numpy as np\n",
    "import pandas as pd"
   ]
  },
  {
   "cell_type": "code",
   "execution_count": 4,
   "metadata": {},
   "outputs": [
    {
     "data": {
      "text/html": [
       "<div>\n",
       "<style scoped>\n",
       "    .dataframe tbody tr th:only-of-type {\n",
       "        vertical-align: middle;\n",
       "    }\n",
       "\n",
       "    .dataframe tbody tr th {\n",
       "        vertical-align: top;\n",
       "    }\n",
       "\n",
       "    .dataframe thead th {\n",
       "        text-align: right;\n",
       "    }\n",
       "</style>\n",
       "<table border=\"1\" class=\"dataframe\">\n",
       "  <thead>\n",
       "    <tr style=\"text-align: right;\">\n",
       "      <th></th>\n",
       "      <th>col1</th>\n",
       "      <th>col2</th>\n",
       "    </tr>\n",
       "  </thead>\n",
       "  <tbody>\n",
       "    <tr>\n",
       "      <th>0</th>\n",
       "      <td>8</td>\n",
       "      <td>7</td>\n",
       "    </tr>\n",
       "    <tr>\n",
       "      <th>1</th>\n",
       "      <td>0</td>\n",
       "      <td>8</td>\n",
       "    </tr>\n",
       "  </tbody>\n",
       "</table>\n",
       "</div>"
      ],
      "text/plain": [
       "   col1  col2\n",
       "0     8     7\n",
       "1     0     8"
      ]
     },
     "execution_count": 4,
     "metadata": {},
     "output_type": "execute_result"
    }
   ],
   "source": [
    "d1=pd.DataFrame(np.random.randint(10,size=(2,2)),columns=['col1','col2'])\n",
    "d1"
   ]
  },
  {
   "cell_type": "code",
   "execution_count": 6,
   "metadata": {},
   "outputs": [
    {
     "data": {
      "text/plain": [
       "array([[0., 0.],\n",
       "       [0., 0.],\n",
       "       [0., 0.],\n",
       "       [0., 0.],\n",
       "       [0., 0.]])"
      ]
     },
     "execution_count": 6,
     "metadata": {},
     "output_type": "execute_result"
    }
   ],
   "source": [
    "t=np.zeros((5,2))\n",
    "t"
   ]
  },
  {
   "cell_type": "code",
   "execution_count": 10,
   "metadata": {},
   "outputs": [
    {
     "data": {
      "text/plain": [
       "array([0, 6])"
      ]
     },
     "execution_count": 10,
     "metadata": {},
     "output_type": "execute_result"
    }
   ],
   "source": [
    "t1=np.arange(0,10,6)\n",
    "t1"
   ]
  },
  {
   "cell_type": "code",
   "execution_count": 11,
   "metadata": {},
   "outputs": [
    {
     "data": {
      "text/plain": [
       "15"
      ]
     },
     "execution_count": 11,
     "metadata": {},
     "output_type": "execute_result"
    }
   ],
   "source": [
    "n1=np.array([1,2,3,4,5])\n",
    "n1.sum()"
   ]
  },
  {
   "cell_type": "code",
   "execution_count": 12,
   "metadata": {},
   "outputs": [
    {
     "data": {
      "text/plain": [
       "3.0"
      ]
     },
     "execution_count": 12,
     "metadata": {},
     "output_type": "execute_result"
    }
   ],
   "source": [
    "n1.mean()"
   ]
  },
  {
   "cell_type": "code",
   "execution_count": 13,
   "metadata": {},
   "outputs": [
    {
     "data": {
      "text/plain": [
       "1.4142135623730951"
      ]
     },
     "execution_count": 13,
     "metadata": {},
     "output_type": "execute_result"
    }
   ],
   "source": [
    "n1.std()"
   ]
  },
  {
   "cell_type": "code",
   "execution_count": 14,
   "metadata": {},
   "outputs": [
    {
     "data": {
      "text/plain": [
       "1.4142135623730951"
      ]
     },
     "execution_count": 14,
     "metadata": {},
     "output_type": "execute_result"
    }
   ],
   "source": [
    "n1.std()"
   ]
  },
  {
   "cell_type": "code",
   "execution_count": 15,
   "metadata": {},
   "outputs": [
    {
     "data": {
      "text/plain": [
       "5"
      ]
     },
     "execution_count": 15,
     "metadata": {},
     "output_type": "execute_result"
    }
   ],
   "source": [
    "n1.max()"
   ]
  },
  {
   "cell_type": "code",
   "execution_count": 16,
   "metadata": {},
   "outputs": [
    {
     "data": {
      "text/plain": [
       "1"
      ]
     },
     "execution_count": 16,
     "metadata": {},
     "output_type": "execute_result"
    }
   ],
   "source": [
    "n1.min()"
   ]
  },
  {
   "cell_type": "code",
   "execution_count": 17,
   "metadata": {},
   "outputs": [
    {
     "data": {
      "text/plain": [
       "4"
      ]
     },
     "execution_count": 17,
     "metadata": {},
     "output_type": "execute_result"
    }
   ],
   "source": [
    "n1.argmax()"
   ]
  },
  {
   "cell_type": "code",
   "execution_count": 18,
   "metadata": {},
   "outputs": [
    {
     "data": {
      "text/plain": [
       "0"
      ]
     },
     "execution_count": 18,
     "metadata": {},
     "output_type": "execute_result"
    }
   ],
   "source": [
    "n1.argmin()"
   ]
  },
  {
   "cell_type": "code",
   "execution_count": 19,
   "metadata": {},
   "outputs": [
    {
     "data": {
      "text/plain": [
       "2.0"
      ]
     },
     "execution_count": 19,
     "metadata": {},
     "output_type": "execute_result"
    }
   ],
   "source": [
    "n1.var() #gives variance"
   ]
  },
  {
   "cell_type": "code",
   "execution_count": 21,
   "metadata": {},
   "outputs": [
    {
     "data": {
      "text/plain": [
       "array([1, 2, 3, 4, 5])"
      ]
     },
     "execution_count": 21,
     "metadata": {},
     "output_type": "execute_result"
    }
   ],
   "source": [
    "#transposing\n",
    "n2=n1.T\n",
    "n2"
   ]
  },
  {
   "cell_type": "code",
   "execution_count": 23,
   "metadata": {},
   "outputs": [
    {
     "data": {
      "text/plain": [
       "array([[[0.84667123, 0.71181053, 0.96678296, 0.82495654, 0.20203452,\n",
       "         0.72008906, 0.31725964, 0.54938106, 0.92924256, 0.87423602],\n",
       "        [0.56716209, 0.28076105, 0.91240688, 0.95975503, 0.77581697,\n",
       "         0.16081462, 0.16755757, 0.87355903, 0.46809336, 0.18078796],\n",
       "        [0.8123142 , 0.77805278, 0.78986135, 0.41951692, 0.58663901,\n",
       "         0.53415076, 0.86959778, 0.58336904, 0.08834041, 0.03261139],\n",
       "        [0.01712619, 0.26743177, 0.14180501, 0.74719925, 0.74553082,\n",
       "         0.87542524, 0.01384927, 0.43095473, 0.24384236, 0.74949863],\n",
       "        [0.20717058, 0.67124575, 0.07180904, 0.82887827, 0.30051207,\n",
       "         0.70582799, 0.50181108, 0.70373341, 0.75532899, 0.7264644 ],\n",
       "        [0.57565714, 0.43915623, 0.88695629, 0.42214408, 0.86783497,\n",
       "         0.74757561, 0.19873998, 0.55109896, 0.14169263, 0.12600326],\n",
       "        [0.17529213, 0.63008101, 0.3640888 , 0.1633771 , 0.84991395,\n",
       "         0.81680163, 0.56092275, 0.43248238, 0.24920639, 0.19400756],\n",
       "        [0.18029774, 0.51040445, 0.22430753, 0.69859079, 0.75437409,\n",
       "         0.74190685, 0.5728799 , 0.08792551, 0.37757116, 0.03040535],\n",
       "        [0.30121141, 0.55229963, 0.93474963, 0.46794903, 0.2585371 ,\n",
       "         0.70701725, 0.39299224, 0.26734905, 0.07447966, 0.96803253],\n",
       "        [0.94012525, 0.71807297, 0.50668405, 0.89120968, 0.12588972,\n",
       "         0.46280637, 0.15379344, 0.07155448, 0.11531006, 0.47745371]],\n",
       "\n",
       "       [[0.79527491, 0.75545398, 0.20191728, 0.12308811, 0.75245576,\n",
       "         0.50028822, 0.02691547, 0.74540558, 0.45571646, 0.59544277],\n",
       "        [0.53846758, 0.84020466, 0.83641931, 0.04928528, 0.18677758,\n",
       "         0.16553936, 0.07082987, 0.17082813, 0.01998529, 0.50532992],\n",
       "        [0.99148529, 0.78971555, 0.00480347, 0.53352907, 0.48892381,\n",
       "         0.95554946, 0.70622914, 0.94479055, 0.13871005, 0.19334375],\n",
       "        [0.92245842, 0.97870928, 0.73636598, 0.80644613, 0.6307107 ,\n",
       "         0.15563162, 0.32494296, 0.28921573, 0.11140513, 0.76418434],\n",
       "        [0.82290303, 0.81915284, 0.05203945, 0.2492349 , 0.56389109,\n",
       "         0.01397092, 0.57050168, 0.09123   , 0.75209176, 0.62494667],\n",
       "        [0.45996973, 0.62760116, 0.47223686, 0.31779108, 0.81248387,\n",
       "         0.51898835, 0.17858301, 0.60352683, 0.7426855 , 0.07379739],\n",
       "        [0.91472603, 0.34377548, 0.95777963, 0.51033264, 0.10921591,\n",
       "         0.25318798, 0.88903154, 0.92387148, 0.10884367, 0.4167793 ],\n",
       "        [0.06660561, 0.86948107, 0.75512586, 0.53708145, 0.19105052,\n",
       "         0.1151939 , 0.01913297, 0.87609953, 0.89727456, 0.57531845],\n",
       "        [0.59649519, 0.44551303, 0.11036757, 0.52991562, 0.99808138,\n",
       "         0.26034778, 0.87627818, 0.16685003, 0.34113862, 0.50242874],\n",
       "        [0.38237727, 0.72693963, 0.99247299, 0.64534572, 0.69861156,\n",
       "         0.7391528 , 0.36478648, 0.05859706, 0.67016144, 0.53041507]]])"
      ]
     },
     "execution_count": 23,
     "metadata": {},
     "output_type": "execute_result"
    }
   ],
   "source": [
    "r=np.random.rand(2, 10, 10)\n",
    "r"
   ]
  },
  {
   "cell_type": "code",
   "execution_count": 27,
   "metadata": {},
   "outputs": [
    {
     "data": {
      "text/plain": [
       "array([[[0.84667123, 0.71181053, 0.96678296, 0.82495654, 0.20203452,\n",
       "         0.72008906, 0.31725964, 0.54938106, 0.92924256, 0.87423602,\n",
       "         0.56716209, 0.28076105, 0.91240688, 0.95975503, 0.77581697,\n",
       "         0.16081462, 0.16755757, 0.87355903, 0.46809336, 0.18078796,\n",
       "         0.8123142 , 0.77805278, 0.78986135, 0.41951692, 0.58663901,\n",
       "         0.53415076, 0.86959778, 0.58336904, 0.08834041, 0.03261139,\n",
       "         0.01712619, 0.26743177, 0.14180501, 0.74719925, 0.74553082,\n",
       "         0.87542524, 0.01384927, 0.43095473, 0.24384236, 0.74949863]],\n",
       "\n",
       "       [[0.20717058, 0.67124575, 0.07180904, 0.82887827, 0.30051207,\n",
       "         0.70582799, 0.50181108, 0.70373341, 0.75532899, 0.7264644 ,\n",
       "         0.57565714, 0.43915623, 0.88695629, 0.42214408, 0.86783497,\n",
       "         0.74757561, 0.19873998, 0.55109896, 0.14169263, 0.12600326,\n",
       "         0.17529213, 0.63008101, 0.3640888 , 0.1633771 , 0.84991395,\n",
       "         0.81680163, 0.56092275, 0.43248238, 0.24920639, 0.19400756,\n",
       "         0.18029774, 0.51040445, 0.22430753, 0.69859079, 0.75437409,\n",
       "         0.74190685, 0.5728799 , 0.08792551, 0.37757116, 0.03040535]],\n",
       "\n",
       "       [[0.30121141, 0.55229963, 0.93474963, 0.46794903, 0.2585371 ,\n",
       "         0.70701725, 0.39299224, 0.26734905, 0.07447966, 0.96803253,\n",
       "         0.94012525, 0.71807297, 0.50668405, 0.89120968, 0.12588972,\n",
       "         0.46280637, 0.15379344, 0.07155448, 0.11531006, 0.47745371,\n",
       "         0.79527491, 0.75545398, 0.20191728, 0.12308811, 0.75245576,\n",
       "         0.50028822, 0.02691547, 0.74540558, 0.45571646, 0.59544277,\n",
       "         0.53846758, 0.84020466, 0.83641931, 0.04928528, 0.18677758,\n",
       "         0.16553936, 0.07082987, 0.17082813, 0.01998529, 0.50532992]],\n",
       "\n",
       "       [[0.99148529, 0.78971555, 0.00480347, 0.53352907, 0.48892381,\n",
       "         0.95554946, 0.70622914, 0.94479055, 0.13871005, 0.19334375,\n",
       "         0.92245842, 0.97870928, 0.73636598, 0.80644613, 0.6307107 ,\n",
       "         0.15563162, 0.32494296, 0.28921573, 0.11140513, 0.76418434,\n",
       "         0.82290303, 0.81915284, 0.05203945, 0.2492349 , 0.56389109,\n",
       "         0.01397092, 0.57050168, 0.09123   , 0.75209176, 0.62494667,\n",
       "         0.45996973, 0.62760116, 0.47223686, 0.31779108, 0.81248387,\n",
       "         0.51898835, 0.17858301, 0.60352683, 0.7426855 , 0.07379739]],\n",
       "\n",
       "       [[0.91472603, 0.34377548, 0.95777963, 0.51033264, 0.10921591,\n",
       "         0.25318798, 0.88903154, 0.92387148, 0.10884367, 0.4167793 ,\n",
       "         0.06660561, 0.86948107, 0.75512586, 0.53708145, 0.19105052,\n",
       "         0.1151939 , 0.01913297, 0.87609953, 0.89727456, 0.57531845,\n",
       "         0.59649519, 0.44551303, 0.11036757, 0.52991562, 0.99808138,\n",
       "         0.26034778, 0.87627818, 0.16685003, 0.34113862, 0.50242874,\n",
       "         0.38237727, 0.72693963, 0.99247299, 0.64534572, 0.69861156,\n",
       "         0.7391528 , 0.36478648, 0.05859706, 0.67016144, 0.53041507]]])"
      ]
     },
     "execution_count": 27,
     "metadata": {},
     "output_type": "execute_result"
    }
   ],
   "source": [
    "np.reshape(r,[5,1,-1])"
   ]
  },
  {
   "cell_type": "code",
   "execution_count": 28,
   "metadata": {},
   "outputs": [
    {
     "data": {
      "text/plain": [
       "array([34, 15, 11, 10,  6,  2,  2])"
      ]
     },
     "execution_count": 28,
     "metadata": {},
     "output_type": "execute_result"
    }
   ],
   "source": [
    "m1=np.array([10,2,11,34,15,6,2])\n",
    "np.sort(m1)[::-1] #in descending order"
   ]
  },
  {
   "cell_type": "code",
   "execution_count": 32,
   "metadata": {},
   "outputs": [
    {
     "data": {
      "text/plain": [
       "array([[ 2,  8, 10,  6],\n",
       "       [10,  8,  0,  2],\n",
       "       [ 0,  7,  2,  8]])"
      ]
     },
     "execution_count": 32,
     "metadata": {},
     "output_type": "execute_result"
    }
   ],
   "source": [
    "a2=np.random.randint(12,size=(3,4))\n",
    "a2"
   ]
  },
  {
   "cell_type": "code",
   "execution_count": 33,
   "metadata": {},
   "outputs": [
    {
     "data": {
      "text/plain": [
       "array([[ 8, 10],\n",
       "       [ 8,  0],\n",
       "       [ 7,  2]])"
      ]
     },
     "execution_count": 33,
     "metadata": {},
     "output_type": "execute_result"
    }
   ],
   "source": [
    "a2[:,1:3]"
   ]
  },
  {
   "cell_type": "code",
   "execution_count": 34,
   "metadata": {},
   "outputs": [
    {
     "data": {
      "text/plain": [
       "array([ 0,  1,  2,  3,  4,  5,  6,  7,  8,  9, 10, 11, 12, 13, 14])"
      ]
     },
     "execution_count": 34,
     "metadata": {},
     "output_type": "execute_result"
    }
   ],
   "source": [
    "a3=np.arange(0,15)\n",
    "a3"
   ]
  },
  {
   "cell_type": "code",
   "execution_count": 38,
   "metadata": {},
   "outputs": [
    {
     "data": {
      "text/plain": [
       "array([14, 13, 12, 11])"
      ]
     },
     "execution_count": 38,
     "metadata": {},
     "output_type": "execute_result"
    }
   ],
   "source": [
    "#negative indexing i want last 4 elements\n",
    "a3[-1:-5:-1]"
   ]
  },
  {
   "cell_type": "code",
   "execution_count": 39,
   "metadata": {},
   "outputs": [
    {
     "data": {
      "text/plain": [
       "array([14, 13, 12, 11, 10,  9,  8,  7,  6])"
      ]
     },
     "execution_count": 39,
     "metadata": {},
     "output_type": "execute_result"
    }
   ],
   "source": [
    "a3[-1:5:-1]"
   ]
  },
  {
   "cell_type": "code",
   "execution_count": 40,
   "metadata": {},
   "outputs": [
    {
     "data": {
      "text/plain": [
       "array([ 3,  4,  5,  6,  7,  8,  9, 10, 11, 12, 13, 14])"
      ]
     },
     "execution_count": 40,
     "metadata": {},
     "output_type": "execute_result"
    }
   ],
   "source": [
    "a3[a3>2]"
   ]
  },
  {
   "cell_type": "code",
   "execution_count": 41,
   "metadata": {},
   "outputs": [
    {
     "data": {
      "text/plain": [
       "array([6, 7, 8, 9])"
      ]
     },
     "execution_count": 41,
     "metadata": {},
     "output_type": "execute_result"
    }
   ],
   "source": [
    "a3[(a3>5) & (a3<10)]"
   ]
  },
  {
   "cell_type": "code",
   "execution_count": 42,
   "metadata": {},
   "outputs": [],
   "source": [
    "a = np.array([[1,2], [3,4]])\n",
    "b = np.array([[5,6]])\n"
   ]
  },
  {
   "cell_type": "code",
   "execution_count": 44,
   "metadata": {},
   "outputs": [
    {
     "data": {
      "text/plain": [
       "array([[1, 2],\n",
       "       [3, 4],\n",
       "       [5, 6]])"
      ]
     },
     "execution_count": 44,
     "metadata": {},
     "output_type": "execute_result"
    }
   ],
   "source": [
    "np.concatenate((a,b),axis=0)"
   ]
  },
  {
   "cell_type": "code",
   "execution_count": 46,
   "metadata": {},
   "outputs": [
    {
     "data": {
      "text/plain": [
       "array([[1, 2, 5],\n",
       "       [3, 4, 6]])"
      ]
     },
     "execution_count": 46,
     "metadata": {},
     "output_type": "execute_result"
    }
   ],
   "source": [
    "np.concatenate((a,b.T),axis=1)"
   ]
  },
  {
   "cell_type": "code",
   "execution_count": 49,
   "metadata": {},
   "outputs": [
    {
     "data": {
      "text/plain": [
       "array([11,  2,  3,  4,  5,  6])"
      ]
     },
     "execution_count": 49,
     "metadata": {},
     "output_type": "execute_result"
    }
   ],
   "source": [
    "a = np.array((11,2,3))\n",
    "b = np.array((4,5,6))\n",
    "np.hstack((a,b))\n"
   ]
  },
  {
   "cell_type": "code",
   "execution_count": 50,
   "metadata": {},
   "outputs": [
    {
     "data": {
      "text/plain": [
       "array([[11,  2,  3],\n",
       "       [ 4,  5,  6]])"
      ]
     },
     "execution_count": 50,
     "metadata": {},
     "output_type": "execute_result"
    }
   ],
   "source": [
    "np.vstack((a,b))"
   ]
  },
  {
   "cell_type": "code",
   "execution_count": 51,
   "metadata": {},
   "outputs": [],
   "source": [
    "arr = np.array([11, 11, 12, 13, 14, 15, 16, 17, 12, 13, 11, 14, 18, 19, 20])"
   ]
  },
  {
   "cell_type": "code",
   "execution_count": 54,
   "metadata": {},
   "outputs": [
    {
     "data": {
      "text/plain": [
       "(array([11, 12, 13, 14, 15, 16, 17, 18, 19, 20]),\n",
       " array([3, 2, 2, 2, 1, 1, 1, 1, 1, 1], dtype=int64))"
      ]
     },
     "execution_count": 54,
     "metadata": {},
     "output_type": "execute_result"
    }
   ],
   "source": [
    "ans=np.unique(arr,return_counts=True)\n",
    "ans"
   ]
  },
  {
   "cell_type": "code",
   "execution_count": 67,
   "metadata": {},
   "outputs": [
    {
     "data": {
      "text/plain": [
       "array([[1., 1., 1.],\n",
       "       [1., 0., 1.],\n",
       "       [1., 1., 1.]])"
      ]
     },
     "execution_count": 67,
     "metadata": {},
     "output_type": "execute_result"
    }
   ],
   "source": [
    "arr=np.ones((3,3))\n",
    "arr[1:-1,1:-1]=0\n",
    "arr"
   ]
  },
  {
   "cell_type": "code",
   "execution_count": 68,
   "metadata": {},
   "outputs": [
    {
     "data": {
      "text/plain": [
       "array([False, False, False, False])"
      ]
     },
     "execution_count": 68,
     "metadata": {},
     "output_type": "execute_result"
    }
   ],
   "source": [
    "a = np.array([[1,2], [3,4]])\n",
    "b = np.array([[5,6]])\n",
    "#to check if 1d array is present or not in 2 array\n",
    "np.in1d(a,b)"
   ]
  }
 ],
 "metadata": {
  "kernelspec": {
   "display_name": "Python 3",
   "language": "python",
   "name": "python3"
  },
  "language_info": {
   "codemirror_mode": {
    "name": "ipython",
    "version": 3
   },
   "file_extension": ".py",
   "mimetype": "text/x-python",
   "name": "python",
   "nbconvert_exporter": "python",
   "pygments_lexer": "ipython3",
   "version": "3.10.9"
  }
 },
 "nbformat": 4,
 "nbformat_minor": 2
}
